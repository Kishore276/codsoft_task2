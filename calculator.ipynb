{
  "nbformat": 4,
  "nbformat_minor": 0,
  "metadata": {
    "colab": {
      "provenance": [],
      "authorship_tag": "ABX9TyMKBCJCYGP1w1p/zUQApgCe",
      "include_colab_link": true
    },
    "kernelspec": {
      "name": "python3",
      "display_name": "Python 3"
    },
    "language_info": {
      "name": "python"
    }
  },
  "cells": [
    {
      "cell_type": "markdown",
      "metadata": {
        "id": "view-in-github",
        "colab_type": "text"
      },
      "source": [
        "<a href=\"https://colab.research.google.com/github/Kishore276/codsoft_task2/blob/main/calculator.ipynb\" target=\"_parent\"><img src=\"https://colab.research.google.com/assets/colab-badge.svg\" alt=\"Open In Colab\"/></a>"
      ]
    },
    {
      "cell_type": "code",
      "execution_count": null,
      "metadata": {
        "colab": {
          "base_uri": "https://localhost:8080/"
        },
        "id": "j2y72CDPXwO9",
        "outputId": "54cf8cfa-6682-4e6c-bb41-a946420d8dd4"
      },
      "outputs": [
        {
          "output_type": "stream",
          "name": "stdout",
          "text": [
            "Enter the first number: 9\n",
            "Enter the second number: 34\n",
            "Enter the operation (+, -, *, /): /\n",
            "The result is: 0.2647058823529412\n"
          ]
        }
      ],
      "source": [
        "number1 = float(input(\"Enter the first number: \"))\n",
        "number2 = float(input(\"Enter the second number: \"))\n",
        "operation = input(\"Enter the operation (+, -, *, /): \")\n",
        "if operation == \"+\":\n",
        "    result = number1 + number2\n",
        "elif operation == \"-\":\n",
        "    result = number1 - number2\n",
        "elif operation == \"*\":\n",
        "    result = number1 * number2\n",
        "elif operation == \"/\":\n",
        "    if number2 != 0:\n",
        "        result = number1 / number2\n",
        "    else:\n",
        "        print(\"Error: Division by zero is not allowed.\")\n",
        "        exit()\n",
        "else:\n",
        "    print(\"Invalid input. Please enter a valid operation.\")\n",
        "    exit()\n",
        "print(f\"The result is: {result}\")"
      ]
    }
  ]
}